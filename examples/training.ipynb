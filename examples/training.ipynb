{
 "cells": [
  {
   "cell_type": "markdown",
   "metadata": {},
   "source": [
    "\n",
    "**Train a Stardist model from scratch with a pre-trained encoder**"
   ]
  },
  {
   "cell_type": "code",
   "execution_count": null,
   "metadata": {},
   "outputs": [],
   "source": [
    "import pytorch_lightning as pl\n",
    "import cellseg_models_pytorch as csmp\n",
    "\n",
    "# Set training, validation and test datasets.\n",
    "train_ds = csmp.datasets.SegmentationFolderDataset(\n",
    "    path=\"/path/to/train/im_patches\",\n",
    "    mask_path=\"/path/to/train/mask_patches\",\n",
    "    img_transforms=[\"blur\", \"hue_sat\"],\n",
    "    inst_transforms=[\"stardist\", \"dist\"],\n",
    "    return_sem=False,\n",
    "    return_type=True,\n",
    "    return_inst=False,\n",
    "    return_weight=False,\n",
    "    normalization=\"percentile\",\n",
    ")\n",
    "valid_ds = csmp.datasets.SegmentationFolderDataset(\n",
    "    path=\"/path/to/valid/im_patches\",\n",
    "    mask_path=\"/path/to/valid/mask_patches\",\n",
    "    img_transforms=[\"blur\", \"hue_sat\"],\n",
    "    inst_transforms=[\"stardist\", \"dist\"],\n",
    "    return_sem=False,\n",
    "    return_type=True,\n",
    "    return_inst=False,\n",
    "    return_weight=False,\n",
    "    normalization=\"percentile\",\n",
    ")\n",
    "test_ds = csmp.datasets.SegmentationFolderDataset(\n",
    "    path=\"/path/to/test/im_patches\",\n",
    "    mask_path=\"/path/to/test/mask_patches\",\n",
    "    img_transforms=[\"blur\", \"hue_sat\"],\n",
    "    inst_transforms=[\"stardist\", \"dist\"],\n",
    "    return_sem=False,\n",
    "    return_type=True,\n",
    "    return_inst=False,\n",
    "    return_weight=False,\n",
    "    normalization=\"percentile\",\n",
    ")\n",
    "\n",
    "# define a lightning datamodule\n",
    "datamodule = csmp.datamodules.CustomDataModule(\n",
    "    [train_ds, valid_ds, test_ds],\n",
    "    batch_size=8,\n",
    "    num_workers=8\n",
    ")\n",
    "\n",
    "\n",
    "# Define the model and lightning experiment (LightningModule).\n",
    "model = csmp.models.stardist_base_multiclass(n_rays=32, type_classes=5)\n",
    "experiment = csmp.training.SegmentationExperiment(\n",
    "    model=model,\n",
    "    branch_metrics={\"dist\": [None], \"stardist\":[None], \"type\": [\"miou\"]},\n",
    "    branch_losses={\"dist\": \"ssim_mse\", \"stardist\": \"ssim_mse\", \"type\": \"ce_dice\"},\n",
    "    optimizer=\"adamp\",\n",
    "    lookahead=False,\n",
    "    scheduler=\"cosine_annealing\"\n",
    ")\n",
    "\n",
    "# Lightning callbacks\n",
    "callbacks = []\n",
    "ckpt_callback = pl.callbacks.ModelCheckpoint(\n",
    "    dirpath=\"/path/to/checkpoint_dir/\",\n",
    "    save_top_k=1,\n",
    "    save_last=True,\n",
    "    verbose=True,\n",
    "    monitor='val_loss',\n",
    "    mode='min',\n",
    ")\n",
    "callbacks.append(ckpt_callback)\n",
    "\n",
    "# Lightning training\n",
    "trainer = pl.Trainer(\n",
    "    max_epochs=15,\n",
    "    gpus=1,\n",
    "    callbacks=callbacks,\n",
    "    profiler=\"simple\",\n",
    "    move_metrics_to_cpu=True,\n",
    ")"
   ]
  },
  {
   "cell_type": "code",
   "execution_count": null,
   "metadata": {},
   "outputs": [],
   "source": [
    "# Train\n",
    "trainer.fit(model=experiment, datamodule=datamodule)"
   ]
  }
 ],
 "metadata": {
  "kernelspec": {
   "display_name": "Python 3.7.7 ('cellseg-models.pytorch-O87oC05o-py3.7')",
   "language": "python",
   "name": "python3"
  },
  "language_info": {
   "name": "python",
   "version": "3.7.7"
  },
  "orig_nbformat": 4,
  "vscode": {
   "interpreter": {
    "hash": "6fcc9972abcb87a0f3d0086bfc4c9b8520ffa4ebf16bee4e0567c9fab37c0587"
   }
  }
 },
 "nbformat": 4,
 "nbformat_minor": 2
}
